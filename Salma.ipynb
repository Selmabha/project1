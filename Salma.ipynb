{
 "cells": [
  {
   "cell_type": "code",
   "execution_count": 17,
   "metadata": {},
   "outputs": [
    {
     "name": "stdout",
     "output_type": "stream",
     "text": [
      "2002/2009/2016/2023/2037/2044/2051/2058/2072/2079/2086/2093/2107/2114/2121/2128/2142/2149/2156/2163/2177/2184/2191/2198/2212/2219/2226/2233/2247/2254/2261/2268/2282/2289/2296/2303/2317/2324/2331/2338/2352/2359/2366/2373/2387/2394/2401/2408/2422/2429/2436/2443/2457/2464/2471/2478/2492/2499/2506/2513/2527/2534/2541/2548/2562/2569/2576/2583/2597/2604/2611/2618/2632/2639/2646/2653/2667/2674/2681/2688/2702/2709/2716/2723/2737/2744/2751/2758/2772/2779/2786/2793/2807/2814/2821/2828/2842/2849/2856/2863/2877/2884/2891/2898/2912/2919/2926/2933/2947/2954/2961/2968/2982/2989/2996/3003/3017/3024/3031/3038/3052/3059/3066/3073/3087/3094/3101/3108/3122/3129/3136/3143/3157/3164/3171/3178/3192/3199/"
     ]
    }
   ],
   "source": [
    "for i in range (2000,3201):\n",
    "    \n",
    "    if (i%7==0) and (i%5!=0):\n",
    "        \n",
    "        print(i,end=\"/\") \n",
    "    \n"
   ]
  },
  {
   "cell_type": "code",
   "execution_count": 25,
   "metadata": {},
   "outputs": [
    {
     "name": "stdout",
     "output_type": "stream",
     "text": [
      "2002.2009.2016.2023.2037.2044.2051.2058.2072.2079.2086.2093.2107.2114.2121.2128.2142.2149.2156.2163.2177.2184.2191.2198.2212.2219.2226.2233.2247.2254.2261.2268.2282.2289.2296.2303.2317.2324.2331.2338.2352.2359.2366.2373.2387.2394.2401.2408.2422.2429.2436.2443.2457.2464.2471.2478.2492.2499.2506.2513.2527.2534.2541.2548.2562.2569.2576.2583.2597.2604.2611.2618.2632.2639.2646.2653.2667.2674.2681.2688.2702.2709.2716.2723.2737.2744.2751.2758.2772.2779.2786.2793.2807.2814.2821.2828.2842.2849.2856.2863.2877.2884.2891.2898.2912.2919.2926.2933.2947.2954.2961.2968.2982.2989.2996.3003.3017.3024.3031.3038.3052.3059.3066.3073.3087.3094.3101.3108.3122.3129.3136.3143.3157.3164.3171.3178.3192.3199\n"
     ]
    }
   ],
   "source": [
    "Liste=[]\n",
    "for i in range (2000,3201):\n",
    "    if (i%7==0) and (i%5!=0):\n",
    "        Liste.append(str(i))\n",
    "print(\".\".join(Liste))\n",
    "\n"
   ]
  },
  {
   "cell_type": "code",
   "execution_count": 36,
   "metadata": {},
   "outputs": [
    {
     "name": "stdout",
     "output_type": "stream",
     "text": [
      "40320\n"
     ]
    }
   ],
   "source": [
    "n=8\n",
    "fact=1\n",
    "for i in range (1,n+1):\n",
    "    fact=fact*i\n",
    "    \n",
    "\n",
    "print(fact)\n",
    "\n",
    "    \n",
    "    "
   ]
  },
  {
   "cell_type": "code",
   "execution_count": 44,
   "metadata": {},
   "outputs": [
    {
     "name": "stdout",
     "output_type": "stream",
     "text": [
      "{1: 1, 2: 4, 3: 9, 4: 16, 5: 25, 6: 36, 7: 49, 8: 64}\n"
     ]
    }
   ],
   "source": [
    "n=8\n",
    "dict={}\n",
    "for i in range (1,n+1):\n",
    "    dict[i]=i*i\n",
    "print(dict)\n",
    "\n"
   ]
  },
  {
   "cell_type": "code",
   "execution_count": 49,
   "metadata": {},
   "outputs": [
    {
     "name": "stdout",
     "output_type": "stream",
     "text": [
      "[[0, 1], [2, 3], [4, 5]]\n"
     ]
    }
   ],
   "source": [
    "import numpy as np\n",
    "a= np.array ([[0,1],[2,3],[4,5]]).tolist()\n",
    "print(a)"
   ]
  },
  {
   "cell_type": "code",
   "execution_count": 58,
   "metadata": {},
   "outputs": [
    {
     "name": "stdout",
     "output_type": "stream",
     "text": [
      "[[1.0, -1.0], [-1.0, 1.0]]\n"
     ]
    }
   ],
   "source": [
    "import numpy as np\n",
    "b= np.array ([[0,1,2],[2,1,0]])\n",
    "c= np.cov(b).tolist()\n",
    "print(c)"
   ]
  },
  {
   "cell_type": "code",
   "execution_count": 96,
   "metadata": {},
   "outputs": [
    {
     "name": "stdout",
     "output_type": "stream",
     "text": [
      "Ktten\n",
      "itten\n",
      "Kittn\n"
     ]
    }
   ],
   "source": [
    "def missing_char(str, n):\n",
    "      first_part = str[:n] \n",
    "      last_part = str[n+1:]\n",
    "      return first_part + last_part\n",
    "print(missing_char('Kitten', 1))\n",
    "print(missing_char('Kitten', 0))\n",
    "print(missing_char('Kitten', 4))"
   ]
  },
  {
   "cell_type": "code",
   "execution_count": null,
   "metadata": {},
   "outputs": [],
   "source": [
    "C= 50\n",
    "H = 30\n",
    "Ds = []\n",
    "result =[]\n",
    "Dv=input(\"enter the value of D\\n\")\n",
    "Ds=Dv.split(\",\")\n",
    "Ds = [int(i) for i in Ds]\n",
    "i=0\n",
    "l = len(Ds)\n",
    "while(i<l):\n",
    "    Q = round(math.sqrt((2*C*Ds[i])/H))\n",
    "    result. append(Q)\n",
    "    i+=1\n",
    "print(\"output=\",result)\n",
    "\n",
    "   "
   ]
  },
  {
   "cell_type": "code",
   "execution_count": null,
   "metadata": {},
   "outputs": [],
   "source": []
  },
  {
   "cell_type": "code",
   "execution_count": null,
   "metadata": {},
   "outputs": [],
   "source": []
  },
  {
   "cell_type": "code",
   "execution_count": null,
   "metadata": {},
   "outputs": [],
   "source": []
  }
 ],
 "metadata": {
  "kernelspec": {
   "display_name": "Python 3",
   "language": "python",
   "name": "python3"
  },
  "language_info": {
   "codemirror_mode": {
    "name": "ipython",
    "version": 3
   },
   "file_extension": ".py",
   "mimetype": "text/x-python",
   "name": "python",
   "nbconvert_exporter": "python",
   "pygments_lexer": "ipython3",
   "version": "3.7.6"
  }
 },
 "nbformat": 4,
 "nbformat_minor": 4
}
